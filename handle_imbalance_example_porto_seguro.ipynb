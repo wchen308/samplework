{
 "cells": [
  {
   "cell_type": "code",
   "execution_count": 1,
   "metadata": {},
   "outputs": [],
   "source": [
    "# import library for reading data\n",
    "import pandas as pd\n",
    "import numpy as np\n",
    "\n",
    "# import library for visualization\n",
    "import seaborn as sns\n",
    "\n",
    "# import library for preprocessing data\n",
    "from sklearn.model_selection import train_test_split, cross_validate\n",
    "from sklearn.compose import make_column_transformer\n",
    "from sklearn.impute import SimpleImputer\n",
    "\n",
    "# import library for making pipelines\n",
    "from imblearn.pipeline import make_pipeline\n",
    "from sklearn.ensemble import RandomForestClassifier\n",
    "import xgboost as xgb\n",
    "\n",
    "# import library for sampling\n",
    "from imblearn.over_sampling import RandomOverSampler, SMOTE, ADASYN\n",
    "from imblearn.under_sampling import RandomUnderSampler\n",
    "\n",
    "# import library for time comparision\n",
    "import time"
   ]
  },
  {
   "cell_type": "markdown",
   "metadata": {},
   "source": [
    "### Read Data"
   ]
  },
  {
   "cell_type": "code",
   "execution_count": 2,
   "metadata": {},
   "outputs": [
    {
     "data": {
      "text/html": [
       "<div>\n",
       "<style scoped>\n",
       "    .dataframe tbody tr th:only-of-type {\n",
       "        vertical-align: middle;\n",
       "    }\n",
       "\n",
       "    .dataframe tbody tr th {\n",
       "        vertical-align: top;\n",
       "    }\n",
       "\n",
       "    .dataframe thead th {\n",
       "        text-align: right;\n",
       "    }\n",
       "</style>\n",
       "<table border=\"1\" class=\"dataframe\">\n",
       "  <thead>\n",
       "    <tr style=\"text-align: right;\">\n",
       "      <th></th>\n",
       "      <th>id</th>\n",
       "      <th>target</th>\n",
       "      <th>ps_ind_01</th>\n",
       "      <th>ps_ind_02_cat</th>\n",
       "      <th>ps_ind_03</th>\n",
       "      <th>ps_ind_04_cat</th>\n",
       "      <th>ps_ind_05_cat</th>\n",
       "      <th>ps_ind_06_bin</th>\n",
       "      <th>ps_ind_07_bin</th>\n",
       "      <th>ps_ind_08_bin</th>\n",
       "      <th>...</th>\n",
       "      <th>ps_calc_11</th>\n",
       "      <th>ps_calc_12</th>\n",
       "      <th>ps_calc_13</th>\n",
       "      <th>ps_calc_14</th>\n",
       "      <th>ps_calc_15_bin</th>\n",
       "      <th>ps_calc_16_bin</th>\n",
       "      <th>ps_calc_17_bin</th>\n",
       "      <th>ps_calc_18_bin</th>\n",
       "      <th>ps_calc_19_bin</th>\n",
       "      <th>ps_calc_20_bin</th>\n",
       "    </tr>\n",
       "  </thead>\n",
       "  <tbody>\n",
       "    <tr>\n",
       "      <th>0</th>\n",
       "      <td>7</td>\n",
       "      <td>0</td>\n",
       "      <td>2</td>\n",
       "      <td>2</td>\n",
       "      <td>5</td>\n",
       "      <td>1</td>\n",
       "      <td>0</td>\n",
       "      <td>0</td>\n",
       "      <td>1</td>\n",
       "      <td>0</td>\n",
       "      <td>...</td>\n",
       "      <td>9</td>\n",
       "      <td>1</td>\n",
       "      <td>5</td>\n",
       "      <td>8</td>\n",
       "      <td>0</td>\n",
       "      <td>1</td>\n",
       "      <td>1</td>\n",
       "      <td>0</td>\n",
       "      <td>0</td>\n",
       "      <td>1</td>\n",
       "    </tr>\n",
       "    <tr>\n",
       "      <th>1</th>\n",
       "      <td>9</td>\n",
       "      <td>0</td>\n",
       "      <td>1</td>\n",
       "      <td>1</td>\n",
       "      <td>7</td>\n",
       "      <td>0</td>\n",
       "      <td>0</td>\n",
       "      <td>0</td>\n",
       "      <td>0</td>\n",
       "      <td>1</td>\n",
       "      <td>...</td>\n",
       "      <td>3</td>\n",
       "      <td>1</td>\n",
       "      <td>1</td>\n",
       "      <td>9</td>\n",
       "      <td>0</td>\n",
       "      <td>1</td>\n",
       "      <td>1</td>\n",
       "      <td>0</td>\n",
       "      <td>1</td>\n",
       "      <td>0</td>\n",
       "    </tr>\n",
       "    <tr>\n",
       "      <th>2</th>\n",
       "      <td>13</td>\n",
       "      <td>0</td>\n",
       "      <td>5</td>\n",
       "      <td>4</td>\n",
       "      <td>9</td>\n",
       "      <td>1</td>\n",
       "      <td>0</td>\n",
       "      <td>0</td>\n",
       "      <td>0</td>\n",
       "      <td>1</td>\n",
       "      <td>...</td>\n",
       "      <td>4</td>\n",
       "      <td>2</td>\n",
       "      <td>7</td>\n",
       "      <td>7</td>\n",
       "      <td>0</td>\n",
       "      <td>1</td>\n",
       "      <td>1</td>\n",
       "      <td>0</td>\n",
       "      <td>1</td>\n",
       "      <td>0</td>\n",
       "    </tr>\n",
       "    <tr>\n",
       "      <th>3</th>\n",
       "      <td>16</td>\n",
       "      <td>0</td>\n",
       "      <td>0</td>\n",
       "      <td>1</td>\n",
       "      <td>2</td>\n",
       "      <td>0</td>\n",
       "      <td>0</td>\n",
       "      <td>1</td>\n",
       "      <td>0</td>\n",
       "      <td>0</td>\n",
       "      <td>...</td>\n",
       "      <td>2</td>\n",
       "      <td>2</td>\n",
       "      <td>4</td>\n",
       "      <td>9</td>\n",
       "      <td>0</td>\n",
       "      <td>0</td>\n",
       "      <td>0</td>\n",
       "      <td>0</td>\n",
       "      <td>0</td>\n",
       "      <td>0</td>\n",
       "    </tr>\n",
       "    <tr>\n",
       "      <th>4</th>\n",
       "      <td>17</td>\n",
       "      <td>0</td>\n",
       "      <td>0</td>\n",
       "      <td>2</td>\n",
       "      <td>0</td>\n",
       "      <td>1</td>\n",
       "      <td>0</td>\n",
       "      <td>1</td>\n",
       "      <td>0</td>\n",
       "      <td>0</td>\n",
       "      <td>...</td>\n",
       "      <td>3</td>\n",
       "      <td>1</td>\n",
       "      <td>1</td>\n",
       "      <td>3</td>\n",
       "      <td>0</td>\n",
       "      <td>0</td>\n",
       "      <td>0</td>\n",
       "      <td>1</td>\n",
       "      <td>1</td>\n",
       "      <td>0</td>\n",
       "    </tr>\n",
       "  </tbody>\n",
       "</table>\n",
       "<p>5 rows × 59 columns</p>\n",
       "</div>"
      ],
      "text/plain": [
       "   id  target  ps_ind_01  ps_ind_02_cat  ps_ind_03  ps_ind_04_cat  \\\n",
       "0   7       0          2              2          5              1   \n",
       "1   9       0          1              1          7              0   \n",
       "2  13       0          5              4          9              1   \n",
       "3  16       0          0              1          2              0   \n",
       "4  17       0          0              2          0              1   \n",
       "\n",
       "   ps_ind_05_cat  ps_ind_06_bin  ps_ind_07_bin  ps_ind_08_bin  ...  \\\n",
       "0              0              0              1              0  ...   \n",
       "1              0              0              0              1  ...   \n",
       "2              0              0              0              1  ...   \n",
       "3              0              1              0              0  ...   \n",
       "4              0              1              0              0  ...   \n",
       "\n",
       "   ps_calc_11  ps_calc_12  ps_calc_13  ps_calc_14  ps_calc_15_bin  \\\n",
       "0           9           1           5           8               0   \n",
       "1           3           1           1           9               0   \n",
       "2           4           2           7           7               0   \n",
       "3           2           2           4           9               0   \n",
       "4           3           1           1           3               0   \n",
       "\n",
       "   ps_calc_16_bin  ps_calc_17_bin  ps_calc_18_bin  ps_calc_19_bin  \\\n",
       "0               1               1               0               0   \n",
       "1               1               1               0               1   \n",
       "2               1               1               0               1   \n",
       "3               0               0               0               0   \n",
       "4               0               0               1               1   \n",
       "\n",
       "   ps_calc_20_bin  \n",
       "0               1  \n",
       "1               0  \n",
       "2               0  \n",
       "3               0  \n",
       "4               0  \n",
       "\n",
       "[5 rows x 59 columns]"
      ]
     },
     "execution_count": 2,
     "metadata": {},
     "output_type": "execute_result"
    }
   ],
   "source": [
    "df = pd.read_csv('train.csv')\n",
    "df.head()"
   ]
  },
  {
   "cell_type": "code",
   "execution_count": 3,
   "metadata": {},
   "outputs": [
    {
     "data": {
      "text/plain": [
       "(595212, 59)"
      ]
     },
     "execution_count": 3,
     "metadata": {},
     "output_type": "execute_result"
    }
   ],
   "source": [
    "df.shape"
   ]
  },
  {
   "cell_type": "markdown",
   "metadata": {},
   "source": [
    "The goal of this notebook is to show examples about how I handle imbalanced classification problems. The data source is from Porto Seguro, one of Brazil’s largest auto and homeowner insurance companies. The problem is to predict if a driver will initiate an auto insurance claim. Here is a link for this data source: https://www.kaggle.com/c/porto-seguro-safe-driver-prediction/data"
   ]
  },
  {
   "cell_type": "markdown",
   "metadata": {},
   "source": [
    "### Problem Exploration"
   ]
  },
  {
   "cell_type": "code",
   "execution_count": 5,
   "metadata": {},
   "outputs": [
    {
     "data": {
      "text/plain": [
       "<matplotlib.axes._subplots.AxesSubplot at 0x1a22fbe2e8>"
      ]
     },
     "execution_count": 5,
     "metadata": {},
     "output_type": "execute_result"
    },
    {
     "data": {
      "image/png": "[encoded data removed]",
      "text/plain": [
       "<Figure size 432x288 with 1 Axes>"
      ]
     },
     "metadata": {
      "needs_background": "light"
     },
     "output_type": "display_data"
    }
   ],
   "source": [
    "# visualization imbalance\n",
    "sns.countplot(x = 'target', data = df)"
   ]
  },
  {
   "cell_type": "code",
   "execution_count": 6,
   "metadata": {},
   "outputs": [
    {
     "data": {
      "text/html": [
       "<div>\n",
       "<style scoped>\n",
       "    .dataframe tbody tr th:only-of-type {\n",
       "        vertical-align: middle;\n",
       "    }\n",
       "\n",
       "    .dataframe tbody tr th {\n",
       "        vertical-align: top;\n",
       "    }\n",
       "\n",
       "    .dataframe thead th {\n",
       "        text-align: right;\n",
       "    }\n",
       "</style>\n",
       "<table border=\"1\" class=\"dataframe\">\n",
       "  <thead>\n",
       "    <tr style=\"text-align: right;\">\n",
       "      <th></th>\n",
       "      <th>target</th>\n",
       "      <th>counts</th>\n",
       "      <th>pct</th>\n",
       "    </tr>\n",
       "  </thead>\n",
       "  <tbody>\n",
       "    <tr>\n",
       "      <th>0</th>\n",
       "      <td>0</td>\n",
       "      <td>573518</td>\n",
       "      <td>96.355</td>\n",
       "    </tr>\n",
       "    <tr>\n",
       "      <th>1</th>\n",
       "      <td>1</td>\n",
       "      <td>21694</td>\n",
       "      <td>3.645</td>\n",
       "    </tr>\n",
       "  </tbody>\n",
       "</table>\n",
       "</div>"
      ],
      "text/plain": [
       "   target  counts     pct\n",
       "0       0  573518  96.355\n",
       "1       1   21694   3.645"
      ]
     },
     "execution_count": 6,
     "metadata": {},
     "output_type": "execute_result"
    }
   ],
   "source": [
    "y = [0, 1]\n",
    "counts = df['target'].value_counts()\n",
    "pct = round(df['target'].value_counts() / df['target'].value_counts().sum() * 100, 3)\n",
    "table = zip(y, counts, pct)\n",
    "table = pd.DataFrame(table, columns = ['target', 'counts', 'pct'])\n",
    "table"
   ]
  },
  {
   "cell_type": "code",
   "execution_count": 8,
   "metadata": {
    "scrolled": true
   },
   "outputs": [
    {
     "name": "stdout",
     "output_type": "stream",
     "text": [
      "accuracy: 0.963\n",
      "recall: 0.0\n",
      "f1: 0.0\n",
      "CV time: 805.219s\n"
     ]
    }
   ],
   "source": [
    "# regular pipeline\n",
    "def regular_pipeline():\n",
    "    # read data\n",
    "    df = pd.read_csv('train.csv')\n",
    "    \n",
    "    # split data\n",
    "    y = df['target']\n",
    "    X = df.drop(columns = ['target'])\n",
    "    X_train, X_holdout, y_train, y_holdout = train_test_split(X, y, test_size = 0.2, random_state = 0)\n",
    "    \n",
    "    # preprocess data\n",
    "    num_cols = X.columns[X.dtypes == 'float64']\n",
    "\n",
    "    ## handle numerical variable: input median, standard scaler in linear method\n",
    "    num_proc_nlin = make_pipeline(SimpleImputer(missing_values = -1, strategy = 'median'))\n",
    "\n",
    "    processor_nlin = make_column_transformer(\n",
    "        (num_proc_nlin, num_cols),\n",
    "        remainder = 'passthrough')\n",
    "    \n",
    "    # run CV with classifier\n",
    "    pipe = make_pipeline(processor_nlin, RandomForestClassifier())\n",
    "    start = time.time()\n",
    "    scores = cross_validate(pipe, X_train, y_train, cv = 5, scoring = ['accuracy', 'recall', 'f1'])\n",
    "    stop = time.time()\n",
    "    print ('accuracy: ' + str(round(scores['test_accuracy'].mean(), 3)))\n",
    "    print ('recall: ' + str(round(scores['test_recall'].mean(), 3)))\n",
    "    print ('f1: ' + str(round(scores['test_f1'].mean(), 3)))\n",
    "    print (f\"CV time: {round(stop - start, 3)}s\")\n",
    "    \n",
    "regular_pipeline()"
   ]
  },
  {
   "cell_type": "markdown",
   "metadata": {},
   "source": [
    "Train data with more than 590k of record is severely imbalanced, where more than 96% of driver do not claim an auto insurance. As shown above, a CV is run on 80% data with a usual classification pipeline. A RandomForestClassifier is used here since categorical variables are label-encoded, a non-linear method makes more sense without further encoding. Again this notebook does not focus on data preprocessing, but showing an example to handle imbalanced data.\n",
    "\n",
    "A model with 96% accuracy may delight people, but I never want to see a classification model with 0% recall. This number implies that our model treats minority class as noise during training, which does not make sense. The reason why we need to model this insurance data is to find out bad drivers, raise the cost of insurance for bad drivers and reduce the price for good ones. If we treat minority class as noise, we are asking good drivers to pay as much as bad drivers with the assumption that good drivers are much less likely to claim insurance."
   ]
  },
  {
   "cell_type": "markdown",
   "metadata": {},
   "source": [
    "### Solutions\n",
    "The first problem to address is sampling. I make sure to use stratified sampling when I sample data especially in CV to make sure that each fold has samples for minority class.\n",
    "\n",
    "The second thing I would like to do is to put more weights on minority class while training. There are 3 ways to do so.\n",
    "1. Oversampling samples with the minority class\n",
    "2. Undersampling samples with the majority class\n",
    "3. Hyperparameter Tuning\n",
    "\n",
    "Here is a regular pipeline with a sampler. Due to data size, using an oversampler will cost too much time to run a CV. Hence in the following section, examples of an undersampler and xgboost hyperparameter are provided without an oversampler example."
   ]
  },
  {
   "cell_type": "code",
   "execution_count": 5,
   "metadata": {},
   "outputs": [],
   "source": [
    "def pipeline_with_sampler(sampler, classifier):\n",
    "    # read data\n",
    "    df = pd.read_csv('train.csv')\n",
    "    \n",
    "    # split data\n",
    "    y = df['target']\n",
    "    X = df.drop(columns = ['target'])\n",
    "    X_train, X_holdout, y_train, y_holdout = train_test_split(X, y, test_size = 0.2, random_state = 0, stratify = y)\n",
    "    \n",
    "    # preprocess data\n",
    "    num_cols = X.columns[X.dtypes == 'float64']\n",
    "\n",
    "    ## handle numerical variable: input median, standard scaler in linear method\n",
    "    num_proc_nlin = make_pipeline(SimpleImputer(missing_values = -1, strategy = 'median'))\n",
    "\n",
    "    processor_nlin = make_column_transformer(\n",
    "        (num_proc_nlin, num_cols),\n",
    "        remainder = 'passthrough')\n",
    "    \n",
    "    # run CV with classifier\n",
    "    pipe = make_pipeline(processor_nlin, sampler, classifier)\n",
    "    start = time.time()\n",
    "    scores = cross_validate(pipe, X_train, y_train, cv = 5, scoring = ['accuracy', 'recall', 'f1'])\n",
    "    stop = time.time()\n",
    "    print ('accuracy: ' + str(round(scores['test_accuracy'].mean(), 3)))\n",
    "    print ('recall: ' + str(round(scores['test_recall'].mean(), 3)))\n",
    "    print ('f1: ' + str(round(scores['test_f1'].mean(), 3)))\n",
    "    print (f\"CV time: {round(stop - start, 3)}s\")"
   ]
  },
  {
   "cell_type": "markdown",
   "metadata": {},
   "source": [
    "##### Undersampling majority class in training\n"
   ]
  },
  {
   "cell_type": "code",
   "execution_count": 6,
   "metadata": {},
   "outputs": [
    {
     "name": "stdout",
     "output_type": "stream",
     "text": [
      "accuracy: 0.605\n",
      "recall: 0.558\n",
      "f1: 0.093\n",
      "CV time: 50.191s\n"
     ]
    }
   ],
   "source": [
    "pipeline_with_sampler(RandomUnderSampler(), RandomForestClassifier())"
   ]
  },
  {
   "cell_type": "markdown",
   "metadata": {},
   "source": [
    "By using undersampler, training time is much faster, but we lose some information from data. Undersampler may only be used when data is large enough so that the undersample can be representative."
   ]
  },
  {
   "cell_type": "markdown",
   "metadata": {},
   "source": [
    "##### Hyperparameter tuning"
   ]
  },
  {
   "cell_type": "code",
   "execution_count": 3,
   "metadata": {},
   "outputs": [
    {
     "name": "stdout",
     "output_type": "stream",
     "text": [
      "accuracy: 0.717\n",
      "recall: 0.419\n",
      "f1: 0.097\n",
      "CV time: 266.64s\n"
     ]
    }
   ],
   "source": [
    "def xgboost_pipeline():\n",
    "    # read data\n",
    "    df = pd.read_csv('train.csv')\n",
    "    \n",
    "    # split data\n",
    "    y = df['target']\n",
    "    X = df.drop(columns = ['target'])\n",
    "    X_train, X_holdout, y_train, y_holdout = train_test_split(X, y, test_size = 0.2, random_state = 0, stratify = y)\n",
    "    \n",
    "    # preprocess data\n",
    "    num_cols = X.columns[X.dtypes == 'float64']\n",
    "\n",
    "    ## handle numerical variable: input median, standard scaler in linear method\n",
    "    num_proc_nlin = make_pipeline(SimpleImputer(missing_values = -1, strategy = 'median'))\n",
    "\n",
    "    processor_nlin = make_column_transformer(\n",
    "        (num_proc_nlin, num_cols),\n",
    "        remainder = 'passthrough')\n",
    "    \n",
    "    # run CV with classifier\n",
    "    pipe = make_pipeline(processor_nlin, xgb.XGBClassifier(scale_pos_weight = 573518/21694))\n",
    "    start = time.time()\n",
    "    scores = cross_validate(pipe, X_train, y_train, cv = 5, scoring = ['accuracy', 'recall', 'f1'])\n",
    "    stop = time.time()\n",
    "    print ('accuracy: ' + str(round(scores['test_accuracy'].mean(), 3)))\n",
    "    print ('recall: ' + str(round(scores['test_recall'].mean(), 3)))\n",
    "    print ('f1: ' + str(round(scores['test_f1'].mean(), 3)))\n",
    "    print (f\"CV time: {round(stop - start, 3)}s\")\n",
    "    \n",
    "xgboost_pipeline()"
   ]
  },
  {
   "cell_type": "markdown",
   "metadata": {},
   "source": [
    "Some boosting methods like xgboost and lightgbm have a hyperparameter called scale_pos_weight that handle sample weights of positive class. Here I just simply use the ratio of negative class over positive class to show an example. By this mean, we do not lose data information but handle imbalanced data in a faster way than oversampling techniques."
   ]
  },
  {
   "cell_type": "code",
   "execution_count": null,
   "metadata": {},
   "outputs": [],
   "source": []
  }
 ],
 "metadata": {
  "kernelspec": {
   "display_name": "Python 3",
   "language": "python",
   "name": "python3"
  },
  "language_info": {
   "codemirror_mode": {
    "name": "ipython",
    "version": 3
   },
   "file_extension": ".py",
   "mimetype": "text/x-python",
   "name": "python",
   "nbconvert_exporter": "python",
   "pygments_lexer": "ipython3",
   "version": "3.6.10"
  }
 },
 "nbformat": 4,
 "nbformat_minor": 4
}
